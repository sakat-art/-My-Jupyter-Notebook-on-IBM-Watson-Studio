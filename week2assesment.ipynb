{
 "cells": [
  {
   "cell_type": "markdown",
   "id": "3c93829a-9258-4447-8587-610e9d648467",
   "metadata": {},
   "source": [
    "# My Jupyter Notebook on IBM Watson Studio"
   ]
  },
  {
   "cell_type": "markdown",
   "id": "cbe8d697-61ab-46bf-9644-ba5534652a60",
   "metadata": {},
   "source": [
    "**Irfan Celen**\n",
    "\n",
    "Business Analyst"
   ]
  },
  {
   "cell_type": "markdown",
   "id": "d354212b-3d89-465a-a2e1-99ed7a8b235d",
   "metadata": {},
   "source": [
    "*Unquestionably, one of the most fascinating aspects of any work is the personal development you go through during the learning process. Data scientists explore data every day and learn new things as they go. The discoveries, the insights, and the creativity are the most fascinating aspects of a data scientist's journey.*"
   ]
  },
  {
   "cell_type": "markdown",
   "id": "3c1555f9-cf5b-4174-8a80-00e7e6fbf89c",
   "metadata": {},
   "source": [
    "### Numpy arange function usage"
   ]
  },
  {
   "cell_type": "code",
   "execution_count": 4,
   "id": "c2ac1827-e18c-4841-b1a0-43a8fe9f9d9f",
   "metadata": {},
   "outputs": [
    {
     "data": {
      "text/plain": [
       "array([0, 1, 2, 3, 4, 5, 6, 7, 8, 9])"
      ]
     },
     "execution_count": 4,
     "metadata": {},
     "output_type": "execute_result"
    }
   ],
   "source": [
    "import numpy as np\n",
    "np.arange(10)"
   ]
  },
  {
   "cell_type": "code",
   "execution_count": null,
   "id": "18ba33f3-7d3a-4c82-ab7a-5c1f9085a41d",
   "metadata": {},
   "outputs": [],
   "source": []
  }
 ],
 "metadata": {
  "kernelspec": {
   "display_name": "Python",
   "language": "python",
   "name": "conda-env-python-py"
  },
  "language_info": {
   "codemirror_mode": {
    "name": "ipython",
    "version": 3
   },
   "file_extension": ".py",
   "mimetype": "text/x-python",
   "name": "python",
   "nbconvert_exporter": "python",
   "pygments_lexer": "ipython3",
   "version": "3.7.12"
  }
 },
 "nbformat": 4,
 "nbformat_minor": 5
}
